{
  "nbformat": 4,
  "nbformat_minor": 0,
  "metadata": {
    "colab": {
      "name": "assignment_3.PY",
      "provenance": [],
      "authorship_tag": "ABX9TyPaD+6HaHYOjKIDQ5I+n53p",
      "include_colab_link": true
    },
    "kernelspec": {
      "name": "python3",
      "display_name": "Python 3"
    }
  },
  "cells": [
    {
      "cell_type": "markdown",
      "metadata": {
        "id": "view-in-github",
        "colab_type": "text"
      },
      "source": [
        "<a href=\"https://colab.research.google.com/github/vamsi2805/ASSIGNMENT-3/blob/master/assignment_3_PY.ipynb\" target=\"_parent\"><img src=\"https://colab.research.google.com/assets/colab-badge.svg\" alt=\"Open In Colab\"/></a>"
      ]
    },
    {
      "cell_type": "markdown",
      "metadata": {
        "id": "PZtQTiVcMjid",
        "colab_type": "text"
      },
      "source": [
        "1. Take two inputs from user and check whether they are equal or not."
      ]
    },
    {
      "cell_type": "code",
      "metadata": {
        "id": "cMNfO6FdMIVJ",
        "colab_type": "code",
        "colab": {
          "base_uri": "https://localhost:8080/",
          "height": 68
        },
        "outputId": "a86cb0bd-e9fd-41c0-8677-61b29464422d"
      },
      "source": [
        "a= input('Enter the first input: ')\n",
        "b= input('Enter the second input: ')\n",
        "if a==b:\n",
        "  print('The inputs are equal')\n",
        "else:\n",
        "  print('The outputs are not equal')\n"
      ],
      "execution_count": 3,
      "outputs": [
        {
          "output_type": "stream",
          "text": [
            "Enter the first input: 25\n",
            "Enter the second input: 25\n",
            "The inputs are equal\n"
          ],
          "name": "stdout"
        }
      ]
    },
    {
      "cell_type": "code",
      "metadata": {
        "id": "wTJBRWpPNfqW",
        "colab_type": "code",
        "colab": {
          "base_uri": "https://localhost:8080/",
          "height": 68
        },
        "outputId": "545dda6f-3fd2-42f9-d0bf-08970664b0ed"
      },
      "source": [
        "a= input('Enter the first input: ')\n",
        "b= input('Enter the second input: ')\n",
        "if a==b:\n",
        "  print('The inputs are equal')\n",
        "else:\n",
        "  print('The outputs are not equal')"
      ],
      "execution_count": 4,
      "outputs": [
        {
          "output_type": "stream",
          "text": [
            "Enter the first input: 10\n",
            "Enter the second input: 15\n",
            "The outputs are not equal\n"
          ],
          "name": "stdout"
        }
      ]
    },
    {
      "cell_type": "markdown",
      "metadata": {
        "id": "8ZL88rg6NuXB",
        "colab_type": "text"
      },
      "source": [
        "2. Take 3 inputs from user and check : all are equal, any of two are equal ( use and or )"
      ]
    },
    {
      "cell_type": "code",
      "metadata": {
        "id": "CaxkiSJyNvYc",
        "colab_type": "code",
        "colab": {
          "base_uri": "https://localhost:8080/",
          "height": 85
        },
        "outputId": "bf70c836-3ac6-45f8-a890-81858a361afd"
      },
      "source": [
        "a = input('Enter the first input: ')\n",
        "b = input('Enter the second input: ')\n",
        "c = input('Enter the third input: ')\n",
        "if a==b and b==c:\n",
        "  print(\"all inputs are equal.\")\n",
        "else:\n",
        "  if a==b or b==c or c==a:\n",
        "    print(\"Two inputs are equal.\")\n",
        "  else:\n",
        "    print(\"None of the inputs are equal.\")"
      ],
      "execution_count": 7,
      "outputs": [
        {
          "output_type": "stream",
          "text": [
            "Enter the first input: 15\n",
            "Enter the second input: 10\n",
            "Enter the third input: 15\n",
            "Two inputs are equal.\n"
          ],
          "name": "stdout"
        }
      ]
    },
    {
      "cell_type": "code",
      "metadata": {
        "id": "m9RacRWkObrC",
        "colab_type": "code",
        "colab": {
          "base_uri": "https://localhost:8080/",
          "height": 85
        },
        "outputId": "747dcea6-6ac7-4fd9-a6af-c20ad7c6ca13"
      },
      "source": [
        "a = input('Enter the first input: ')\n",
        "b = input('Enter the second input: ')\n",
        "c = input('Enter the third input: ')\n",
        "if a==b and b==c:\n",
        "  print(\"all inputs are equal.\")\n",
        "else:\n",
        "  if a==b or b==c or c==a:\n",
        "    print(\"Two inputs are equal.\")\n",
        "  else:\n",
        "    print(\"None of the inputs are equal.\")"
      ],
      "execution_count": 8,
      "outputs": [
        {
          "output_type": "stream",
          "text": [
            "Enter the first input: 10\n",
            "Enter the second input: 10\n",
            "Enter the third input: 10\n",
            "all inputs are equal.\n"
          ],
          "name": "stdout"
        }
      ]
    },
    {
      "cell_type": "markdown",
      "metadata": {
        "id": "2lIdGH_yOv_y",
        "colab_type": "text"
      },
      "source": [
        "3. Take two number and check whether the sum is greater than 5, less than 5 or equal to 5"
      ]
    },
    {
      "cell_type": "code",
      "metadata": {
        "id": "MwxXzmQWO0Rg",
        "colab_type": "code",
        "colab": {
          "base_uri": "https://localhost:8080/",
          "height": 68
        },
        "outputId": "9a1dc770-dee8-46eb-d3bf-f21d3c337a45"
      },
      "source": [
        "a = int(input('Enter the first number: '))\n",
        "b = int(input('Enter the second number: '))\n",
        "if a+b>5:\n",
        "  print('The sum is greater than 5')\n",
        "elif a+b<5:\n",
        "  print('The sum is less than 5')\n",
        "else:\n",
        "  print('The sum is equal to 5')"
      ],
      "execution_count": 9,
      "outputs": [
        {
          "output_type": "stream",
          "text": [
            "Enter the first number: 3\n",
            "Enter the second number: 3\n",
            "The sum is greater than 5\n"
          ],
          "name": "stdout"
        }
      ]
    },
    {
      "cell_type": "code",
      "metadata": {
        "id": "VKDGrN4gPS5e",
        "colab_type": "code",
        "colab": {
          "base_uri": "https://localhost:8080/",
          "height": 68
        },
        "outputId": "ac133db3-dfe6-4629-caf6-d2eaee8a16ab"
      },
      "source": [
        "a = int(input('Enter the first number: '))\n",
        "b = int(input('Enter the second number: '))\n",
        "if a+b>5:\n",
        "  print('The sum is greater than 5')\n",
        "elif a+b<5:\n",
        "  print('The sum is less than 5')\n",
        "else:\n",
        "  print('The sum is equal to 5')"
      ],
      "execution_count": 10,
      "outputs": [
        {
          "output_type": "stream",
          "text": [
            "Enter the first number: 2\n",
            "Enter the second number: 1\n",
            "The sum is less than 5\n"
          ],
          "name": "stdout"
        }
      ]
    },
    {
      "cell_type": "code",
      "metadata": {
        "id": "tK59FL_SPcDo",
        "colab_type": "code",
        "colab": {
          "base_uri": "https://localhost:8080/",
          "height": 68
        },
        "outputId": "3d48a1cb-f5d6-4f15-c7c5-0039d026537d"
      },
      "source": [
        "a = int(input('Enter the first number: '))\n",
        "b = int(input('Enter the second number: '))\n",
        "if a+b>5:\n",
        "  print('The sum is greater than 5')\n",
        "elif a+b<5:\n",
        "  print('The sum is less than 5')\n",
        "else:\n",
        "  print('The sum is equal to 5')"
      ],
      "execution_count": 11,
      "outputs": [
        {
          "output_type": "stream",
          "text": [
            "Enter the first number: 2\n",
            "Enter the second number: 3\n",
            "The sum is equal to 5\n"
          ],
          "name": "stdout"
        }
      ]
    },
    {
      "cell_type": "markdown",
      "metadata": {
        "id": "aX8gDX1cPhwc",
        "colab_type": "text"
      },
      "source": [
        "4. Suppose passing marks of a subject is 35. Take input of marks from user and check whether it is greater than passing marks or not."
      ]
    },
    {
      "cell_type": "code",
      "metadata": {
        "id": "BgB6i7GAPqh-",
        "colab_type": "code",
        "colab": {
          "base_uri": "https://localhost:8080/",
          "height": 51
        },
        "outputId": "f7a4ccdf-3eb9-49b6-db01-5f3459357b85"
      },
      "source": [
        "Totalmarks = float(input(\"Enter the no of marks: \"))\n",
        "passmarks = 35\n",
        "if Totalmarks>=passmarks:\n",
        "  print(\"The marks are greater than the pass mark. You have passed.\")\n",
        "else:\n",
        "  print(\"The marks are less than the pass mark. You have not passed.\")\n"
      ],
      "execution_count": 13,
      "outputs": [
        {
          "output_type": "stream",
          "text": [
            "Enter the no of marks: 35\n",
            "The marks are greater than the pass mark. You have passed.\n"
          ],
          "name": "stdout"
        }
      ]
    },
    {
      "cell_type": "code",
      "metadata": {
        "id": "lSlbXNp-RERI",
        "colab_type": "code",
        "colab": {
          "base_uri": "https://localhost:8080/",
          "height": 51
        },
        "outputId": "a6c4deae-1107-45ca-f96b-92d70a5d4f28"
      },
      "source": [
        "Totalmarks = float(input(\"Enter the no of marks: \"))\n",
        "passmarks = 35\n",
        "if Totalmarks>=passmarks:\n",
        "  print(\"The marks are greater than the pass mark. You have passed.\")\n",
        "else:\n",
        "  print(\"The marks are less than the pass mark. You have not passed.\")"
      ],
      "execution_count": 14,
      "outputs": [
        {
          "output_type": "stream",
          "text": [
            "Enter the no of marks: 23\n",
            "The marks are less than the pass mark. You have not passed.\n"
          ],
          "name": "stdout"
        }
      ]
    },
    {
      "cell_type": "markdown",
      "metadata": {
        "id": "73u0YFURRJGP",
        "colab_type": "text"
      },
      "source": [
        "5. Write a Python function to find the Max of three numbers."
      ]
    },
    {
      "cell_type": "code",
      "metadata": {
        "id": "jILCQAKbRMqG",
        "colab_type": "code",
        "colab": {
          "base_uri": "https://localhost:8080/",
          "height": 85
        },
        "outputId": "e747dd7a-c8d4-4729-fd10-8926bcf34f28"
      },
      "source": [
        "a = int(input('Enter the first number: '))\n",
        "b = int(input('Enter the second number: '))\n",
        "c = int(input('Enter the third number: '))\n",
        "if a>b:\n",
        "  if a>c:\n",
        "    print('The maximum of three numbers is:',a)\n",
        "  else:\n",
        "    print('The maximum of three numbers is:',c)\n",
        "else:\n",
        "  if a>b:\n",
        "    print('The maximum of three numbers is:',b)  \n",
        "  else:\n",
        "    print('The maximum of three numbers is:', c)\n"
      ],
      "execution_count": 16,
      "outputs": [
        {
          "output_type": "stream",
          "text": [
            "Enter the first number: 10\n",
            "Enter the second number: 15\n",
            "Enter the third number: 89\n",
            "The maximum of three numbers is: 89\n"
          ],
          "name": "stdout"
        }
      ]
    }
  ]
}